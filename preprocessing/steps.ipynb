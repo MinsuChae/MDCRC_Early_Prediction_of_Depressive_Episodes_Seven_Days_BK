{
 "cells": [
  {
   "cell_type": "code",
   "execution_count": null,
   "id": "fff6ac9f-7391-4bb3-bf98-85a6efbbdbd0",
   "metadata": {},
   "outputs": [],
   "source": [
    "import pandas as pd\n",
    "import numpy as np\n",
    "import datetime\n",
    "from tqdm import tqdm\n",
    "\n",
    "\n",
    "def make_index_date(value):\n",
    "    return pd.Timestamp(year = value.year, month = value.month, day = value.day)\n",
    "\n",
    "tqdm.pandas()\n",
    "\n",
    "df = pd.read_csv(\"steps(id).csv\")\n",
    "df['timestamp'] = pd.to_datetime(df['timestamp'])\n",
    "df['index_date'] = df['timestamp'].progress_apply(make_index_date)\n",
    "\n",
    "del df['id']"
   ]
  },
  {
   "cell_type": "code",
   "execution_count": null,
   "id": "839f17d7-7eae-41a5-907b-0c8998b99b14",
   "metadata": {},
   "outputs": [],
   "source": [
    "# Calculate sunrise and sunset times based on Korean local time\n",
    "\n",
    "df_suntime = pd.read_excel(\"sun_2015_2023_with_wake_up.xlsx\")\n",
    "df_suntime['양력(일)'] = pd.to_datetime(df_suntime['양력(일)'])\n",
    "df_suntime['일출몰(출)'] = pd.to_datetime(df_suntime['일출몰(출)'])\n",
    "df_suntime['일출몰(몰)'] = pd.to_datetime(df_suntime['일출몰(몰)'])\n",
    "\n",
    "df = pd.merge(df, df_suntime, left_on='index_date', right_on='양력(일)')\n",
    "del df['양력(일)']\n",
    "del df['recommend_wake_up']\n",
    "df.rename(columns={'일출몰(출)':'sun_time', '일출몰(몰)':'night_time'}, inplace=True)"
   ]
  },
  {
   "cell_type": "code",
   "execution_count": null,
   "id": "dc9e6e36-773e-430e-a180-1f27ac2f83af",
   "metadata": {},
   "outputs": [],
   "source": [
    "df_enddate = pd.read_csv(\"patient_end_date.csv\")"
   ]
  },
  {
   "cell_type": "code",
   "execution_count": null,
   "id": "289711f4-bd1c-4d89-80bb-bdad9ca3e797",
   "metadata": {},
   "outputs": [],
   "source": [
    "import datetime\n",
    "\n",
    "def fill_enddate(value):\n",
    "    if pd.isna(value):\n",
    "        return datetime.datetime(9999,12,31)\n",
    "    else:\n",
    "        return value\n",
    "\n",
    "df = pd.merge(df, df_enddate, left_on='fitbit_id', right_on='patient_id', how='left')\n",
    "df['timestamp'] = pd.to_datetime(df['timestamp'])\n",
    "df['end_date'] = pd.to_datetime(df['end_date'])\n",
    "\n",
    "df['end_date'] = df['end_date'].apply(fill_enddate)\n",
    "del df['patient_id']\n",
    "df.rename(columns={'fitbit_id':'patient_id'}, inplace=True)\n",
    "df = df[df['timestamp'] <= df['end_date']]"
   ]
  },
  {
   "cell_type": "code",
   "execution_count": null,
   "id": "da01c954-de6d-4dbc-abc8-2bf2be133416",
   "metadata": {},
   "outputs": [],
   "source": [
    "df_patient = pd.read_csv(\"all_patient.csv\")\n",
    "df = df[df['patient_id'].isin(df_patient['patient_id'])]"
   ]
  },
  {
   "cell_type": "code",
   "execution_count": null,
   "id": "e4ebb5af-5484-4b5a-94df-e4efa3798af9",
   "metadata": {},
   "outputs": [],
   "source": [
    "df.sort_values(['patient_id', 'timestamp'], inplace=True)"
   ]
  },
  {
   "cell_type": "code",
   "execution_count": null,
   "id": "8701c34b-5a1b-426f-aa94-5c300a2ee7cd",
   "metadata": {},
   "outputs": [],
   "source": [
    "my_dict = {}\n",
    "arr = df.values"
   ]
  },
  {
   "cell_type": "code",
   "execution_count": null,
   "id": "6a3addd2-2096-45b4-825f-941095f3529c",
   "metadata": {},
   "outputs": [],
   "source": [
    "from tqdm import tqdm\n",
    "\n",
    "for i in tqdm(range(len(arr)), miniters=1, mininterval=1):\n",
    "    p = arr[i][0]\n",
    "    if p not in my_dict:\n",
    "        my_dict[p] = {}\n",
    "    current_date = datetime.datetime(arr[i][1].year,arr[i][1].month,arr[i][1].day)\n",
    "    hour = arr[i][1].hour\n",
    "    now = arr[i][1].hour + arr[i][1].minute / 60\n",
    "    if hour <= 3:\n",
    "        current_date = current_date - datetime.timedelta(days=1)\n",
    "    if current_date not in my_dict[p] :\n",
    "        my_dict[p][current_date] = {}\n",
    "        my_dict[p][current_date]['day'] = []\n",
    "        my_dict[p][current_date]['bedtime'] = []\n",
    "        my_dict[p][current_date]['morning'] = []\n",
    "        my_dict[p][current_date]['afternoon'] = []\n",
    "        my_dict[p][current_date]['evening'] = []\n",
    "        my_dict[p][current_date]['daytime'] = []\n",
    "    my_dict[p][current_date]['day'].append(arr[i][2])\n",
    "    if hour >= 22 or hour < 4:\n",
    "        my_dict[p][current_date]['bedtime'].append(arr[i][2])\n",
    "    elif 4 <= hour < 10:\n",
    "        my_dict[p][current_date]['morning'].append(arr[i][2])\n",
    "    elif 10 <= hour < 16:\n",
    "        my_dict[p][current_date]['afternoon'].append(arr[i][2])\n",
    "    elif 16 < now < 22:\n",
    "        my_dict[p][current_date]['evening'].append(arr[i][2])\n",
    "\n",
    "    sun_start = arr[i][-3].hour + arr[i][-3].minute / 60\n",
    "    sun_end = arr[i][-2].hour + arr[i][-2].minute / 60\n",
    "    if sun_start <= hour <= sun_end:\n",
    "        my_dict[p][current_date]['daytime'].append(arr[i][2])\n",
    "        "
   ]
  },
  {
   "cell_type": "code",
   "execution_count": null,
   "id": "ad5ab905-91f1-4606-bf04-14ef2a4215ab",
   "metadata": {},
   "outputs": [],
   "source": [
    "my_dict_all_day = {}\n",
    "\n",
    "for p in my_dict:\n",
    "    keys = sorted(my_dict[p])\n",
    "    start_date = keys[0]\n",
    "    end_date = keys[-1]\n",
    "\n",
    "    now = start_date\n",
    "    my_dict_all_day[p] = {}\n",
    "    while now <= end_date:\n",
    "        my_dict_all_day[p][now] = {}\n",
    "        my_dict_all_day[p][now]['day'] = np.nan\n",
    "        my_dict_all_day[p][now]['bedtime'] = np.nan\n",
    "        my_dict_all_day[p][now]['morning'] = np.nan\n",
    "        my_dict_all_day[p][now]['afternoon'] = np.nan\n",
    "        my_dict_all_day[p][now]['evening'] = np.nan\n",
    "        my_dict_all_day[p][now]['daytime'] = np.nan\n",
    "        my_dict_all_day[p][now]['day_categorical'] = np.nan\n",
    "        my_dict_all_day[p][now]['mean_over'] = np.nan\n",
    "        now = now + datetime.timedelta(days=1)"
   ]
  },
  {
   "cell_type": "code",
   "execution_count": null,
   "id": "f2a85150-1d10-4b77-b86b-db24eadc6a38",
   "metadata": {},
   "outputs": [],
   "source": [
    "for p in my_dict:\n",
    "    keys = sorted(my_dict[p])\n",
    "    sum_of_total = 0\n",
    "    count_day = 0\n",
    "    \n",
    "    for day in keys:\n",
    "        count_day = count_day + 1\n",
    "       \n",
    "        my_dict_all_day[p][day]['day'] = np.sum(my_dict[p][day]['day'])\n",
    "        sum_of_total = sum_of_total + my_dict_all_day[p][day]['day'] \n",
    "        \n",
    "        my_dict_all_day[p][day]['bedtime'] = np.sum(my_dict[p][day]['bedtime'])\n",
    "        my_dict_all_day[p][day]['morning'] = np.sum(my_dict[p][day]['morning'])\n",
    "        my_dict_all_day[p][day]['afternoon'] = np.sum(my_dict[p][day]['afternoon'])\n",
    "        my_dict_all_day[p][day]['evening'] = np.sum(my_dict[p][day]['evening'])\n",
    "        my_dict_all_day[p][day]['daytime'] = np.sum(my_dict[p][day]['daytime'])\n",
    "        \n",
    "        if my_dict_all_day[p][day]['day'] < 7000:\n",
    "            my_dict_all_day[p][day]['day_categorical'] = 1\n",
    "        elif my_dict_all_day[p][day]['day'] < 8000:\n",
    "            my_dict_all_day[p][day]['day_categorical'] = 2\n",
    "        elif my_dict_all_day[p][day]['day'] >= 8000:\n",
    "            my_dict_all_day[p][day]['day_categorical'] = 3\n",
    "        if count_day == 1:\n",
    "            my_dict_all_day[p][day]['mean_over'] = np.nan\n",
    "        elif my_dict_all_day[p][day]['day'] >= (sum_of_total / count_day):\n",
    "            my_dict_all_day[p][day]['mean_over'] = 1\n",
    "        else:\n",
    "            my_dict_all_day[p][day]['mean_over'] = 0"
   ]
  },
  {
   "cell_type": "code",
   "execution_count": null,
   "id": "514c470b-5899-4a64-a21f-45bafadbf996",
   "metadata": {},
   "outputs": [],
   "source": [
    "my_list = []\n",
    "for p in my_dict_all_day:\n",
    "    for day in sorted(my_dict_all_day[p]):\n",
    "        row = [p,day.date()]\n",
    "        row.append(my_dict_all_day[p][day]['day'])\n",
    "        row.append(my_dict_all_day[p][day]['daytime'])\n",
    "        row.append(my_dict_all_day[p][day]['day_categorical'])\n",
    "        row.append(my_dict_all_day[p][day]['morning'])\n",
    "        row.append(my_dict_all_day[p][day]['afternoon'])\n",
    "        row.append(my_dict_all_day[p][day]['evening'])\n",
    "        row.append(my_dict_all_day[p][day]['bedtime'])\n",
    "        row.append(my_dict_all_day[p][day]['mean_over'])\n",
    "        my_list.append(row)\n",
    "\n",
    "df = pd.DataFrame(my_list, columns=[\"patient_id\",\"timestamp\",\"day_steps_total\",\"sunrise_and_sunset_steps_total\",\"day_steps_total_categorical\",\n",
    "                                    \"morning_steps\", \"afternoon_steps\", \"evening_steps\", \"bedtime_steps\", \"average_step_over\"])\n",
    "df                  "
   ]
  },
  {
   "cell_type": "code",
   "execution_count": null,
   "id": "8edd04ec-c735-4fb0-8e0e-13dc37180e1e",
   "metadata": {},
   "outputs": [],
   "source": [
    "df.to_csv(\"feature_steps.csv\", index=False, encoding=\"utf-8-sig\")"
   ]
  },
  {
   "cell_type": "code",
   "execution_count": null,
   "id": "5f5e29c2-bbfb-4b47-9bfc-00f054da5488",
   "metadata": {},
   "outputs": [],
   "source": []
  }
 ],
 "metadata": {
  "kernelspec": {
   "display_name": ".venv",
   "language": "python",
   "name": "python3"
  },
  "language_info": {
   "codemirror_mode": {
    "name": "ipython",
    "version": 3
   },
   "file_extension": ".py",
   "mimetype": "text/x-python",
   "name": "python",
   "nbconvert_exporter": "python",
   "pygments_lexer": "ipython3",
   "version": "3.12.3"
  }
 },
 "nbformat": 4,
 "nbformat_minor": 5
}
