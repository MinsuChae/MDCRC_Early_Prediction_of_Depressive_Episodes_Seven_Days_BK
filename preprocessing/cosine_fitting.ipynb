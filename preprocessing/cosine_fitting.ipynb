{
 "cells": [
  {
   "cell_type": "code",
   "execution_count": null,
   "id": "fff6ac9f-7391-4bb3-bf98-85a6efbbdbd0",
   "metadata": {},
   "outputs": [],
   "source": [
    "import pandas as pd\n",
    "import numpy as np\n",
    "from tqdm import tqdm\n",
    "\n",
    "df = pd.read_csv(\"heart_rates_preprocessing.csv\") \n",
    "del df['id']"
   ]
  },
  {
   "cell_type": "code",
   "execution_count": null,
   "id": "dc9e6e36-773e-430e-a180-1f27ac2f83af",
   "metadata": {},
   "outputs": [],
   "source": [
    "df_enddate = pd.read_csv(\"patient_end_date.csv\")"
   ]
  },
  {
   "cell_type": "code",
   "execution_count": null,
   "id": "289711f4-bd1c-4d89-80bb-bdad9ca3e797",
   "metadata": {},
   "outputs": [],
   "source": [
    "import datetime\n",
    "\n",
    "def fill_enddate(value):\n",
    "    if pd.isna(value):\n",
    "        return datetime.datetime(9999,12,31)\n",
    "    else:\n",
    "        return value\n",
    "\n",
    "df = pd.merge(df, df_enddate, left_on='fitbit_id', right_on='patient_id', how='left')\n",
    "df['timestamp'] = pd.to_datetime(df['timestamp'])\n",
    "df['end_date'] = pd.to_datetime(df['end_date'])\n",
    "\n",
    "df['end_date'] = df['end_date'].apply(fill_enddate)\n",
    "del df['patient_id']\n",
    "df.rename(columns={'fitbit_id':'patient_id'}, inplace=True)\n",
    "df = df[df['timestamp'] <= df['end_date']]"
   ]
  },
  {
   "cell_type": "code",
   "execution_count": null,
   "id": "da01c954-de6d-4dbc-abc8-2bf2be133416",
   "metadata": {},
   "outputs": [],
   "source": [
    "df_patient = pd.read_csv(\"all_patient.csv\")\n",
    "df = df[df['patient_id'].isin(df_patient['patient_id'])]"
   ]
  },
  {
   "cell_type": "code",
   "execution_count": null,
   "id": "e4ebb5af-5484-4b5a-94df-e4efa3798af9",
   "metadata": {},
   "outputs": [],
   "source": [
    "df.sort_values(['patient_id', 'timestamp'], inplace=True)"
   ]
  },
  {
   "cell_type": "code",
   "execution_count": null,
   "id": "1d80ecd4-665f-4a46-b249-cd16b9f4fae6",
   "metadata": {},
   "outputs": [],
   "source": [
    "import datetime\n",
    "\n",
    "arr = df.values\n",
    "my_dict = {}\n",
    "\n",
    "for i in range(len(arr)):\n",
    "    if arr[i][0] not in my_dict:\n",
    "        my_dict[arr[i][0]] = {}\n",
    "        my_dict[arr[i][0]]['start_date'] = datetime.datetime(year = arr[i][1].year, month = arr[i][1].month ,day = arr[i][1].day)\n",
    "    my_dict[arr[i][0]]['end_date'] = datetime.datetime(year = arr[i][1].year, month = arr[i][1].month ,day = arr[i][1].day, hour=23, minute=59, second=59)"
   ]
  },
  {
   "cell_type": "code",
   "execution_count": null,
   "id": "13a6a556-6757-447f-a7cf-d807a128b542",
   "metadata": {},
   "outputs": [],
   "source": [
    "my_list = []\n",
    "for p in tqdm(my_dict, miniters=1, mininterval=1):\n",
    "    now = my_dict[p]['start_date']\n",
    "    end_date = my_dict[p]['end_date']\n",
    "    while now <= end_date:\n",
    "        my_list.append([p, now])\n",
    "        now = now + datetime.timedelta(hours = 1)\n",
    "\n",
    "df_all_date = pd.DataFrame(my_list, columns = ['patient_id', 'timestamp'])\n",
    "df_all_date['timestamp'] = pd.to_datetime(df_all_date['timestamp'])\n",
    "\n",
    "df = pd.merge(df_all_date, df, on = ['patient_id', 'timestamp'], how='left')"
   ]
  },
  {
   "cell_type": "code",
   "execution_count": null,
   "id": "c99f3212-15f2-4def-9e13-1f66cc306c23",
   "metadata": {},
   "outputs": [],
   "source": [
    "from scipy.optimize import curve_fit\n",
    "\n",
    "def cosine_func(t, A, T, phi, C):\n",
    "    return A * np.cos(2 * np.pi / T * t + phi) + C"
   ]
  },
  {
   "cell_type": "code",
   "execution_count": null,
   "id": "94965ae7-1e71-4808-9cb1-6bb16b9e84ff",
   "metadata": {},
   "outputs": [],
   "source": [
    "import copy\n",
    "import numpy as np\n",
    "from sklearn.model_selection import train_test_split\n",
    "from sklearn.preprocessing import PolynomialFeatures\n",
    "from sklearn.linear_model import LinearRegression\n",
    "from sklearn.pipeline import make_pipeline\n",
    "from sklearn.metrics import r2_score\n",
    "\n",
    "\n",
    "my_list_48_base = []\n",
    "my_list_168_base = []\n",
    "\n",
    "for p in my_dict:\n",
    "    arr = df[df['patient_id']==p].values\n",
    "\n",
    "    \n",
    "    for i in range((24 * 2), len(arr), 24):\n",
    "        hr = arr[i-48:i, 2].reshape(-1)\n",
    "\n",
    "        time_value = 0\n",
    "        value_data = []\n",
    "        time_data = []\n",
    "        for v in hr:\n",
    "            if not pd.isna(v):\n",
    "                value_data.append(v)\n",
    "                time_data.append(time_value)\n",
    "            time_value = time_value + 3600\n",
    "\n",
    "        if len(value_data) <= 3:\n",
    "            continue\n",
    "\n",
    "        time_data = np.array(time_data, dtype=float)\n",
    "        value_data = np.array(value_data, dtype=float)\n",
    "        \n",
    "        initial_guess = [50, 86400, 0, np.mean(value_data)] \n",
    "        params, _ = curve_fit(cosine_func, time_data, value_data, p0=initial_guess, maxfev = 100000)\n",
    "        A, T, phi, C = params\n",
    "        fitted_values = cosine_func(np.array(time_data, dtype=float), A, T, phi, C)\n",
    "        acrophase = np.max(fitted_values)\n",
    "        acrophase_time = None\n",
    "        for t, cos_hr in zip(time_data,fitted_values):\n",
    "            if cos_hr == acrophase:\n",
    "                acrophase_time = t\n",
    "                break\n",
    "        else:\n",
    "            acrophase_time = time_data\n",
    "\n",
    "        mesor = np.mean(fitted_values)\n",
    "        min_value = np.min(fitted_values)\n",
    "        amplitude = acrophase - min_value\n",
    "\n",
    "        X = np.array(time_data).reshape(len(time_data), -1)\n",
    "        y =fitted_values.reshape(-1, 1)\n",
    "\n",
    "        model = make_pipeline(PolynomialFeatures(degree=3), LinearRegression())\n",
    "        model.fit(X, y)\n",
    "        y_pred = model.predict(X)\n",
    "        acrophase_hour = (acrophase_time/3600)%24\n",
    "        acrophase_is_abnormal = 0\n",
    "        if acrophase_hour < 15:\n",
    "            acrophase_is_abnormal = -1\n",
    "        elif acrophase_hour > 18:\n",
    "            acrophase_is_abnormal = 1\n",
    "\n",
    "        my_list_48_base.append( [p, datetime.datetime(year = arr[i-1][1].year, month = arr[i-1][1].month, \\\n",
    "                                              day = arr[i-1][1].day), \\\n",
    "                        acrophase_hour, acrophase_is_abnormal, acrophase, mesor, min_value, amplitude, T, r2_score(fitted_values, y_pred)] )\n",
    "                                     \n",
    "    for i in range((24 * 7) , len(arr), 24):\n",
    "        hr = arr[i-24 * 7:i, 2].reshape(-1)\n",
    "\n",
    "        time_value = 0\n",
    "        value_data = []\n",
    "        time_data = []\n",
    "        for v in hr:\n",
    "            if not pd.isna(v):\n",
    "                value_data.append(v)\n",
    "                time_data.append(time_value)\n",
    "            time_value = time_value + 3600\n",
    "\n",
    "        if len(value_data) <= 3:\n",
    "            continue\n",
    "\n",
    "        time_data = np.array(time_data, dtype=float)\n",
    "        value_data = np.array(value_data, dtype=float)\n",
    "\n",
    "\n",
    "        initial_guess = [50, 86400, 0, np.mean(value_data)] \n",
    "        params, _ = curve_fit(cosine_func, time_data, value_data, p0=initial_guess, maxfev = 100000)\n",
    "        A, T, phi, C = params\n",
    "        fitted_values = cosine_func(np.array(time_data, dtype=float), A, T, phi, C)\n",
    "        acrophase = np.max(fitted_values)\n",
    "        acrophase_time = None\n",
    "        for t, cos_hr in zip(time_data,fitted_values):\n",
    "            if cos_hr == acrophase:\n",
    "                acrophase_time = t\n",
    "                break\n",
    "        else:\n",
    "            acrophase_time = time_data\n",
    "\n",
    "        mesor = np.mean(fitted_values)\n",
    "        min_value = np.min(fitted_values)\n",
    "        amplitude = acrophase - min_value\n",
    "\n",
    "        X = np.array(time_data).reshape(len(time_data), -1)\n",
    "        y =fitted_values.reshape(-1, 1)\n",
    "\n",
    "        model = make_pipeline(PolynomialFeatures(degree=3), LinearRegression())\n",
    "        model.fit(X, y)\n",
    "        y_pred = model.predict(X)\n",
    "        acrophase_hour = (acrophase_time/3600)%24\n",
    "        acrophase_is_abnormal = 0\n",
    "        if acrophase_hour < 15:\n",
    "            acrophase_is_abnormal = -1\n",
    "        elif acrophase_hour > 18:\n",
    "            acrophase_is_abnormal = 1\n",
    "            \n",
    "\n",
    "        my_list_168_base.append( [p, datetime.datetime(year = arr[i-1][1].year, month = arr[i-1][1].month, \\\n",
    "                                              day = arr[i-1][1].day), \\\n",
    "                        acrophase_hour, acrophase_is_abnormal, acrophase, mesor, min_value, amplitude, T, r2_score(fitted_values, y_pred)] )"
   ]
  },
  {
   "cell_type": "code",
   "execution_count": null,
   "id": "ac0f0a36-ae9a-4ece-986c-02602e63e55a",
   "metadata": {},
   "outputs": [],
   "source": [
    "df_Cosine_Fitting = pd.DataFrame(my_list_48_base, columns=['patient_id', 'timestamp', 'Acrophase_time_base_48_hours', 'Acrophase_is_abnormal_48_hours', 'Acrophase_base_48_hours', 'MESER_base_48_hours', 'Bathyphase_base_48_hours' ,'Amplitude_base_48_hours','Period_base_48_hours', 'goodness_of_fit_base_48_hours'])"
   ]
  },
  {
   "cell_type": "code",
   "execution_count": null,
   "id": "c5c4daeb-103b-4dad-b8cc-c46dd0dab485",
   "metadata": {},
   "outputs": [],
   "source": [
    "df_Cosine_Fitting2 = pd.DataFrame(my_list_168_base, columns=['patient_id', 'timestamp', 'Acrophase_time_base_168_hours', 'Acrophase_is_abnormal_168_hours', 'Acrophase_base_168_hours', 'MESER_base_168_hours', 'Bathyphase_base_168_hours' ,'Amplitude_base_168_hours','Period_base_168_hours', 'goodness_of_fit_base_168_hours'])"
   ]
  },
  {
   "cell_type": "code",
   "execution_count": null,
   "id": "aac13ec0-a6ca-490d-9fc1-59b84747f35c",
   "metadata": {},
   "outputs": [],
   "source": [
    "my_list = []\n",
    "for p in tqdm(my_dict, miniters=1, mininterval=1):\n",
    "    now = my_dict[p]['start_date']\n",
    "    end_date = my_dict[p]['end_date']\n",
    "    while now <= end_date:\n",
    "        my_list.append([p, now])\n",
    "        now = now + datetime.timedelta(days = 1)\n",
    "\n",
    "df_all_date = pd.DataFrame(my_list, columns = ['patient_id', 'timestamp'])"
   ]
  },
  {
   "cell_type": "code",
   "execution_count": null,
   "id": "1d8e4e76-e565-442d-803e-1cecd0341d33",
   "metadata": {},
   "outputs": [],
   "source": [
    "df_tmp = pd.merge(df_all_date, df_Cosine_Fitting, on=['patient_id', 'timestamp'], how='left')\n",
    "df = pd.merge(df_tmp, df_Cosine_Fitting2, on=['patient_id', 'timestamp'], how='left')"
   ]
  },
  {
   "cell_type": "code",
   "execution_count": null,
   "id": "b25494f6-0842-48bf-a424-a0abc39e85f1",
   "metadata": {},
   "outputs": [],
   "source": [
    "df.to_csv(\"feature_circadian_rhythm.csv\", encoding=\"utf-8-sig\", index=False)"
   ]
  }
 ],
 "metadata": {
  "kernelspec": {
   "display_name": ".venv",
   "language": "python",
   "name": "python3"
  },
  "language_info": {
   "codemirror_mode": {
    "name": "ipython",
    "version": 3
   },
   "file_extension": ".py",
   "mimetype": "text/x-python",
   "name": "python",
   "nbconvert_exporter": "python",
   "pygments_lexer": "ipython3",
   "version": "3.12.3"
  }
 },
 "nbformat": 4,
 "nbformat_minor": 5
}
