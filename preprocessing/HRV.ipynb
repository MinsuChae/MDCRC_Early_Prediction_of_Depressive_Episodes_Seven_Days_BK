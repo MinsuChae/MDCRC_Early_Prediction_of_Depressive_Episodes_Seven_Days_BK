{
 "cells": [
  {
   "cell_type": "code",
   "execution_count": null,
   "id": "c0b2978a-9107-4009-b8dd-9720375ee66c",
   "metadata": {},
   "outputs": [],
   "source": [
    "import neurokit2 as nk\n",
    "from tqdm import tqdm\n",
    "import pandas as pd\n",
    "import numpy as np\n",
    "\n",
    "def calculate_hrv_grouped(df, groupby=['fitbit_id', 'date']):\n",
    "    grouped = df.groupby(groupby)\n",
    "    final_df = pd.DataFrame()\n",
    "    \n",
    "    for group_name, group_data in tqdm(grouped, miniters=1, mininterval=1):\n",
    "        if len(group_data) < 2:\n",
    "            continue\n",
    "        \n",
    "        try:\n",
    "            RR_interval = 60000 / group_data['value']\n",
    "            \n",
    "            peaks = nk.intervals_to_peaks(RR_interval)\n",
    "            \n",
    "            hrv_results = nk.hrv_time(peaks, show=False)\n",
    "            \n",
    "            hrv_df = pd.DataFrame(hrv_results, index=[0])\n",
    "            hrv_df['fitbit_id'] = group_name[0]\n",
    "            hrv_df['date'] = group_name[1]\n",
    "            \n",
    "            final_df = pd.concat([final_df, hrv_df], ignore_index=True)\n",
    "        \n",
    "        except Exception as e:\n",
    "            print(f\"그룹 {group_name} 처리 중 오류 발생: {str(e)}\")\n",
    "    \n",
    "    return final_df"
   ]
  },
  {
   "cell_type": "code",
   "execution_count": null,
   "id": "920fb151-cb26-4ef4-adf3-112780f07b95",
   "metadata": {},
   "outputs": [],
   "source": [
    "df = pd.read_csv(\"heart_rates(id).csv\")\n",
    "del df['id']"
   ]
  },
  {
   "cell_type": "code",
   "execution_count": null,
   "id": "706132b2-eca1-4c29-bdca-72e53a341ba9",
   "metadata": {},
   "outputs": [],
   "source": [
    "def make_date(value):\n",
    "    return value.date()\n",
    "    \n",
    "df['timestamp'] = pd.to_datetime(df['timestamp'])\n",
    "\n",
    "df['date'] = df['timestamp'].apply(make_date)"
   ]
  },
  {
   "cell_type": "code",
   "execution_count": null,
   "id": "b0378f1b-4935-468a-9d10-fa3bcaff0bae",
   "metadata": {},
   "outputs": [],
   "source": [
    "hrv_df = calculate_hrv_grouped(df, groupby=['fitbit_id', 'date'])"
   ]
  },
  {
   "cell_type": "code",
   "execution_count": null,
   "id": "15e3e8b4-7587-420a-8c97-c51f65995601",
   "metadata": {},
   "outputs": [],
   "source": [
    "list(hrv_df.columns)\n",
    "\n",
    "hrv_df = hrv_df[[ 'fitbit_id',\n",
    " 'date',\n",
    " 'HRV_MeanNN',\n",
    " 'HRV_SDNN',\n",
    " 'HRV_SDANN1',\n",
    " 'HRV_SDNNI1',\n",
    " 'HRV_SDANN2',\n",
    " 'HRV_SDNNI2',\n",
    " 'HRV_SDANN5',\n",
    " 'HRV_SDNNI5',\n",
    " 'HRV_RMSSD',\n",
    " 'HRV_SDSD',\n",
    " 'HRV_CVNN',\n",
    " 'HRV_CVSD',\n",
    " 'HRV_MedianNN',\n",
    " 'HRV_MadNN',\n",
    " 'HRV_MCVNN',\n",
    " 'HRV_IQRNN',\n",
    " 'HRV_SDRMSSD',\n",
    " 'HRV_Prc20NN',\n",
    " 'HRV_Prc80NN',\n",
    " 'HRV_pNN50',\n",
    " 'HRV_pNN20',\n",
    " 'HRV_MinNN',\n",
    " 'HRV_MaxNN',\n",
    " 'HRV_HTI',\n",
    " 'HRV_TINN']]"
   ]
  },
  {
   "cell_type": "code",
   "execution_count": null,
   "id": "efda53b1-61ce-45d1-8b1b-60eca0d13e96",
   "metadata": {},
   "outputs": [],
   "source": [
    "hrv_df.rename(columns={'fitbit_id':'patient_id'}, inplace=True)\n",
    "hrv_df.to_csv(\"HRV.csv\", encoding=\"utf-8-sig\", index=False)"
   ]
  },
  {
   "cell_type": "code",
   "execution_count": null,
   "id": "3d9ce62e-7386-495a-9b94-a569bc0a2d85",
   "metadata": {},
   "outputs": [],
   "source": []
  }
 ],
 "metadata": {
  "kernelspec": {
   "display_name": ".venv",
   "language": "python",
   "name": "python3"
  },
  "language_info": {
   "codemirror_mode": {
    "name": "ipython",
    "version": 3
   },
   "file_extension": ".py",
   "mimetype": "text/x-python",
   "name": "python",
   "nbconvert_exporter": "python",
   "pygments_lexer": "ipython3",
   "version": "3.12.3"
  }
 },
 "nbformat": 4,
 "nbformat_minor": 5
}
