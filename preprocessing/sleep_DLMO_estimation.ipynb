{
 "cells": [
  {
   "cell_type": "code",
   "execution_count": null,
   "id": "fff6ac9f-7391-4bb3-bf98-85a6efbbdbd0",
   "metadata": {},
   "outputs": [],
   "source": [
    "import pandas as pd\n",
    "import numpy as np\n",
    "\n",
    "df = pd.read_csv(\"sleeps.csv\")\n",
    "df.rename(columns={'index_date':'timestamp'}, inplace=True)"
   ]
  },
  {
   "cell_type": "code",
   "execution_count": null,
   "id": "dc9e6e36-773e-430e-a180-1f27ac2f83af",
   "metadata": {},
   "outputs": [],
   "source": [
    "df_enddate = pd.read_csv(\"patient_end_date.csv\")"
   ]
  },
  {
   "cell_type": "code",
   "execution_count": null,
   "id": "289711f4-bd1c-4d89-80bb-bdad9ca3e797",
   "metadata": {},
   "outputs": [],
   "source": [
    "import datetime\n",
    "\n",
    "def fill_enddate(value):\n",
    "    if pd.isna(value):\n",
    "        return datetime.datetime(9999,12,31)\n",
    "    else:\n",
    "        return value\n",
    "\n",
    "df = pd.merge(df, df_enddate, left_on='fitbit_id', right_on='patient_id', how='left')\n",
    "df['timestamp'] = pd.to_datetime(df['timestamp'])\n",
    "df['end_date'] = pd.to_datetime(df['end_date'])\n",
    "df['start_time'] = pd.to_datetime(df['start_time'])\n",
    "\n",
    "df['end_date'] = df['end_date'].apply(fill_enddate)\n",
    "del df['patient_id']\n",
    "df.rename(columns={'fitbit_id':'patient_id'}, inplace=True)\n",
    "df = df[df['timestamp'] <= df['end_date']]"
   ]
  },
  {
   "cell_type": "code",
   "execution_count": null,
   "id": "da01c954-de6d-4dbc-abc8-2bf2be133416",
   "metadata": {},
   "outputs": [],
   "source": [
    "df_patient = pd.read_csv(\"all_patient.csv\")\n",
    "df = df[df['patient_id'].isin(df_patient['patient_id'])]"
   ]
  },
  {
   "cell_type": "code",
   "execution_count": null,
   "id": "3d8cc536-2cc5-4eb2-8003-e15c4f7ac394",
   "metadata": {},
   "outputs": [],
   "source": [
    "# Calculate sunrise and sunset times based on Korean local time\n",
    "\n",
    "df_suntime = pd.read_excel(\"sun_2015_2023_with_wake_up.xlsx\")\n",
    "df_suntime['양력(일)'] = pd.to_datetime(df_suntime['양력(일)'])\n",
    "df_suntime['일출몰(출)'] = pd.to_datetime(df_suntime['일출몰(출)'])\n",
    "df_suntime['일출몰(몰)'] = pd.to_datetime(df_suntime['일출몰(몰)'])\n",
    "df = pd.merge(df, df_suntime, left_on='timestamp', right_on='양력(일)')\n",
    "del df['양력(일)']\n",
    "del df['recommend_wake_up']\n",
    "df.rename(columns={'일출몰(출)':'sun_time', '일출몰(몰)':'night_time'}, inplace=True)"
   ]
  },
  {
   "cell_type": "code",
   "execution_count": null,
   "id": "e4ebb5af-5484-4b5a-94df-e4efa3798af9",
   "metadata": {},
   "outputs": [],
   "source": [
    "df.sort_values(['patient_id', 'timestamp'], inplace=True)"
   ]
  },
  {
   "cell_type": "code",
   "execution_count": null,
   "id": "1def79d4-3bee-4428-b3dc-bb4fccd23ec6",
   "metadata": {},
   "outputs": [],
   "source": [
    "import datetime\n",
    "\n",
    "def make_correct_date(row):\n",
    "    new_date = datetime.datetime(year = row['start_time'].year, month = row['start_time'].month, day = row['start_time'].day)\n",
    "    sun_time =  row['sun_time'].hour + row['sun_time'].minute / 60\n",
    "    night_time =  row['night_time'].hour + row['night_time'].minute / 60\n",
    "    current_time =  row['start_time'].hour + row['start_time'].minute / 60\n",
    "\n",
    "    if current_time <= sun_time:\n",
    "        new_date = new_date - datetime.timedelta(days=1)\n",
    "    return new_date\n",
    "\n",
    "df['timestamp'] = df.apply(make_correct_date, axis=1)\n",
    "df.sort_values(['patient_id', 'timestamp', 'start_time'], inplace=True)"
   ]
  },
  {
   "cell_type": "code",
   "execution_count": null,
   "id": "8701c34b-5a1b-426f-aa94-5c300a2ee7cd",
   "metadata": {},
   "outputs": [],
   "source": [
    "my_dict = {}\n",
    "arr = df.values"
   ]
  },
  {
   "cell_type": "code",
   "execution_count": null,
   "id": "6a3addd2-2096-45b4-825f-941095f3529c",
   "metadata": {},
   "outputs": [],
   "source": [
    "from tqdm import tqdm\n",
    "\n",
    "for i in tqdm(range(len(arr)), miniters=1, mininterval=1):\n",
    "    p = arr[i][0]\n",
    "    if p not in my_dict:\n",
    "        my_dict[p] = {}\n",
    "    current_date = datetime.datetime(arr[i][1].year,arr[i][1].month,arr[i][1].day)\n",
    "    if current_date not in my_dict[p] :\n",
    "        my_dict[p][current_date] = {}\n",
    "        my_dict[p][current_date]['efficiency'] = []\n",
    "        my_dict[p][current_date]['minutes_sleep'] = []\n",
    "        my_dict[p][current_date]['minutes_awake'] = []\n",
    "        my_dict[p][current_date]['time_in_bed'] = []\n",
    "        my_dict[p][current_date]['sleep_onset'] = []\n",
    "        my_dict[p][current_date]['sleep_offset'] = []\n",
    "    \n",
    "    my_dict[p][current_date]['efficiency'].append(arr[i][2])\n",
    "    my_dict[p][current_date]['minutes_sleep'].append(arr[i][3])\n",
    "    my_dict[p][current_date]['minutes_awake'].append(arr[i][4])\n",
    "    my_dict[p][current_date]['time_in_bed'].append(arr[i][5])\n",
    "    my_dict[p][current_date]['sleep_onset'].append(arr[i][6])\n",
    "    my_dict[p][current_date]['sleep_offset'].append(arr[i][6]+datetime.timedelta(minutes=arr[i][5]))"
   ]
  },
  {
   "cell_type": "code",
   "execution_count": null,
   "id": "ad5ab905-91f1-4606-bf04-14ef2a4215ab",
   "metadata": {},
   "outputs": [],
   "source": [
    "my_dict_all_day = {}\n",
    "\n",
    "for p in my_dict:\n",
    "    keys = sorted(my_dict[p])\n",
    "    start_date = keys[0]\n",
    "    end_date = keys[-1]\n",
    "\n",
    "    now = start_date\n",
    "    my_dict_all_day[p] = {}\n",
    "    while now <= end_date:\n",
    "        my_dict_all_day[p][now] = {}\n",
    "        my_dict_all_day[p][now]['efficiency'] = np.nan\n",
    "        my_dict_all_day[p][now]['minutes_sleep'] = np.nan\n",
    "        my_dict_all_day[p][now]['minutes_awake'] = np.nan\n",
    "        my_dict_all_day[p][now]['time_in_bed'] = np.nan\n",
    "        my_dict_all_day[p][now]['main_sleep_onset'] = np.nan\n",
    "        my_dict_all_day[p][now]['main_sleep_offset'] = np.nan\n",
    "        my_dict_all_day[p][now]['main_midsleep'] = np.nan\n",
    "        my_dict_all_day[p][now]['main_sleep_time'] = np.nan\n",
    "        now = now + datetime.timedelta(days=1)"
   ]
  },
  {
   "cell_type": "code",
   "execution_count": null,
   "id": "f2a85150-1d10-4b77-b86b-db24eadc6a38",
   "metadata": {},
   "outputs": [],
   "source": [
    "for p in my_dict:\n",
    "    keys = sorted(my_dict[p])\n",
    "    \n",
    "    for day in keys:\n",
    "        my_dict_all_day[p][day]['efficiency'] = np.mean(my_dict[p][day]['efficiency'])\n",
    "        my_dict_all_day[p][day]['minutes_sleep'] = np.sum(my_dict[p][day]['minutes_sleep'])\n",
    "        my_dict_all_day[p][day]['minutes_awake'] = np.sum(my_dict[p][day]['minutes_awake'])\n",
    "        my_dict_all_day[p][day]['time_in_bed'] = np.sum(my_dict[p][day]['time_in_bed'])\n",
    "\n",
    "        if len(my_dict[p][day]['sleep_onset'] ) == 1:\n",
    "            my_dict_all_day[p][day]['main_sleep_onset'] =  pd.to_datetime(my_dict[p][day]['sleep_onset'][0])\n",
    "            my_dict_all_day[p][day]['main_sleep_offset'] =  pd.to_datetime(my_dict[p][day]['sleep_offset'][0])\n",
    "\n",
    "            start = my_dict_all_day[p][day]['main_sleep_onset'].hour + my_dict_all_day[p][day]['main_sleep_onset'].minute / 60\n",
    "            end = my_dict_all_day[p][day]['main_sleep_offset'].hour + my_dict_all_day[p][day]['main_sleep_offset'].minute / 60\n",
    "\n",
    "            midsleep = ((start + end)%24) / 2\n",
    "            my_dict_all_day[p][day]['main_midsleep'] = midsleep\n",
    "\n",
    "            \n",
    "            timestamp = pd.to_datetime( my_dict[p][day]['sleep_onset'][0] )\n",
    "            \n",
    "            if timestamp.hour <= 6:\n",
    "                my_dict_all_day[p][day]['main_sleep_time'] = 1\n",
    "            elif timestamp.hour <= 12:\n",
    "                my_dict_all_day[p][day]['main_sleep_time'] = 2\n",
    "            elif timestamp.hour <= 18:\n",
    "                my_dict_all_day[p][day]['main_sleep_time'] = 3\n",
    "            elif timestamp.hour <= 24:\n",
    "                my_dict_all_day[p][day]['main_sleep_time'] = 4\n",
    "                \n",
    "        elif len(my_dict[p][day]['sleep_onset'] ) > 1 :\n",
    "            # Combine any fragments of sleep into a single period\n",
    "            main_sleep_onset_list = [ my_dict[p][day]['sleep_onset'][0]]\n",
    "            main_sleep_offset_list = [ my_dict[p][day]['sleep_offset'][0]]\n",
    "\n",
    "            last_offset = pd.to_datetime( main_sleep_offset_list[0] )\n",
    "\n",
    "            for i in range(1, len(my_dict[p][day]['sleep_offset'])):\n",
    "                tmp_onset = pd.to_datetime( my_dict[p][day]['sleep_onset'][i] )\n",
    "                tmp_offset = pd.to_datetime( my_dict[p][day]['sleep_offset'][i] )\n",
    "\n",
    "                if tmp_onset - last_offset <= datetime.timedelta(hours=1):\n",
    "                    main_sleep_offset_list[-1] = my_dict[p][day]['sleep_offset'][i]\n",
    "                else:\n",
    "                    main_sleep_onset_list.append( my_dict[p][day]['sleep_onset'][i] )\n",
    "                    main_sleep_offset_list.append( my_dict[p][day]['sleep_offset'][i] )\n",
    "                    last_offset = pd.to_datetime( my_dict[p][day]['sleep_offset'][i] )\n",
    "\n",
    "            index_of_main_sleep = 0\n",
    "            onset_time = pd.to_datetime(main_sleep_onset_list[0])\n",
    "            onset_time = onset_time.hour + onset_time.minute/60\n",
    "\n",
    "            offset_time = pd.to_datetime(main_sleep_offset_list[0])\n",
    "            offset_time = offset_time.hour + offset_time.minute/60\n",
    "            \n",
    "            # Calculate main sleep time\n",
    "            max_sleep_time = offset_time - onset_time\n",
    "            for i in range(1, len(main_sleep_onset_list)):\n",
    "                onset_time = pd.to_datetime(main_sleep_onset_list[i])\n",
    "                onset_time = onset_time.hour + onset_time.minute/60\n",
    "    \n",
    "                offset_time = pd.to_datetime(main_sleep_offset_list[i])\n",
    "                offset_time = offset_time.hour + offset_time.minute/60\n",
    "                current_sleep_time = offset_time - onset_time\n",
    "\n",
    "                if current_sleep_time >= max_sleep_time:\n",
    "                    max_sleep_time = current_sleep_time\n",
    "                    index_of_main_sleep = i\n",
    "\n",
    "            my_dict_all_day[p][day]['main_sleep_onset'] =  main_sleep_onset_list[index_of_main_sleep]\n",
    "            my_dict_all_day[p][day]['main_sleep_offset'] = main_sleep_offset_list[index_of_main_sleep]\n",
    "            \n",
    "            main_sleep_onset = pd.to_datetime(main_sleep_onset_list[index_of_main_sleep])\n",
    "            main_sleep_offset = pd.to_datetime(main_sleep_offset_list[index_of_main_sleep])\n",
    "            \n",
    "            start = main_sleep_onset.hour +main_sleep_onset.minute / 60\n",
    "            end = main_sleep_offset.hour + main_sleep_offset.minute / 60\n",
    "\n",
    "            midsleep = ((start + end)%24) / 2\n",
    "            my_dict_all_day[p][day]['main_midsleep'] = midsleep\n",
    "\n",
    "            if main_sleep_onset.hour <= 6:\n",
    "                my_dict_all_day[p][day]['main_sleep_time'] = 1\n",
    "            elif main_sleep_onset.hour <= 12:\n",
    "                my_dict_all_day[p][day]['main_sleep_time'] = 2\n",
    "            elif main_sleep_onset.hour <= 18:\n",
    "                my_dict_all_day[p][day]['main_sleep_time'] = 3\n",
    "            elif main_sleep_onset.hour <= 24:\n",
    "                my_dict_all_day[p][day]['main_sleep_time'] = 4"
   ]
  },
  {
   "cell_type": "code",
   "execution_count": null,
   "id": "514c470b-5899-4a64-a21f-45bafadbf996",
   "metadata": {},
   "outputs": [],
   "source": [
    "my_list = []\n",
    "for p in my_dict_all_day:\n",
    "    for day in sorted(my_dict_all_day[p]):\n",
    "        row = [p,day.date()]\n",
    "        row.append(my_dict_all_day[p][day]['efficiency'])\n",
    "        row.append(my_dict_all_day[p][day]['minutes_sleep'])\n",
    "        row.append(my_dict_all_day[p][day]['minutes_awake'])\n",
    "        row.append(my_dict_all_day[p][day]['time_in_bed'])\n",
    "        row.append(my_dict_all_day[p][day]['main_sleep_onset'])\n",
    "        row.append(my_dict_all_day[p][day]['main_sleep_offset'])\n",
    "        row.append(my_dict_all_day[p][day]['main_midsleep'])\n",
    "        row.append(my_dict_all_day[p][day]['main_sleep_time'])\n",
    "        my_list.append(row)\n",
    "\n",
    "df = pd.DataFrame(my_list, columns=[\"patient_id\",\"timestamp\",\"sleep_efficiency\",\"sleep_minutes\",\"sleep_minutes_awake\",\n",
    "                                    \"sleep_time_in_bed\", \"main_sleep_onset\", \"main_sleep_offset\", \"main_midsleep\", \"main_sleep_time\"])"
   ]
  },
  {
   "cell_type": "code",
   "execution_count": null,
   "id": "32aa1469-7b56-435f-8bc6-81fb9e635fda",
   "metadata": {},
   "outputs": [],
   "source": [
    "df_midsleep = df[['patient_id', 'timestamp', 'main_midsleep']]"
   ]
  },
  {
   "cell_type": "code",
   "execution_count": null,
   "id": "fbb89764-cb3e-4aa2-9228-64a48f1f5061",
   "metadata": {},
   "outputs": [],
   "source": [
    "my_dlmo  = []\n",
    "for p in my_dict_all_day:\n",
    "    arr = df_midsleep[df_midsleep['patient_id']==p].values\n",
    "    for i in range(len(arr)):\n",
    "        if i < 2:\n",
    "            my_dlmo.append([np.nan, np.nan, np.nan, np.nan])\n",
    "            continue\n",
    "            \n",
    "        before_index = max(i - 14, 0)\n",
    "        tmp = arr[before_index:i+1, 2]\n",
    "        tmp = tmp[~pd.isna(tmp)]\n",
    "        if len(tmp) < 3:\n",
    "            my_dlmo.append([np.nan, np.nan, np.nan, np.nan])\n",
    "            continue\n",
    "    \n",
    "        midsleep = np.mean(tmp) + 24\n",
    "        dlmo_method1 = midsleep - 6.27\n",
    "        wakup1 = dlmo_method1 + 9.5\n",
    "        while wakup1 >= 24:\n",
    "            wakup1 = wakup1 - 24\n",
    "        \n",
    "        dlmo_method2 = 0.72 * midsleep + 1.5\n",
    "        wakup2 = dlmo_method2 + 9.5\n",
    "        while wakup2 >= 24:\n",
    "            wakup2 = wakup2 - 24\n",
    "            \n",
    "        my_dlmo.append([dlmo_method1, wakup1, dlmo_method2, wakup2])\n",
    "\n",
    "my_dlmo = np.array(my_dlmo)"
   ]
  },
  {
   "cell_type": "code",
   "execution_count": null,
   "id": "547e1347-3dd3-4eb5-ba1d-7b8db2452951",
   "metadata": {},
   "outputs": [],
   "source": [
    "df_midsleep = pd.DataFrame(np.concatenate([df_midsleep,my_dlmo], axis=1), columns=['patient_id', 'timestamp', 'main_midsleep', 'dlmo_fixed_interval', 'dlmo_fixed_interval_wakeup_time', 'dlmo_linear_regression', 'dlmo_linear_regression_wakeup_time'])"
   ]
  },
  {
   "cell_type": "code",
   "execution_count": null,
   "id": "702713b8-bd8e-4101-a3b3-ab0570ae7549",
   "metadata": {},
   "outputs": [],
   "source": [
    "df_midsleep.drop('main_midsleep', axis=1, inplace=True)"
   ]
  },
  {
   "cell_type": "code",
   "execution_count": null,
   "id": "aea9da9b-537d-4bcc-90d3-82dba4c9ccf3",
   "metadata": {},
   "outputs": [],
   "source": [
    "def make_dlmo1_diff(row):\n",
    "    if pd.isna(row['dlmo_fixed_interval_wakeup_time']):\n",
    "        return np.nan\n",
    "    offset = row['main_sleep_offset'].hour + row['main_sleep_offset'].minute/60\n",
    "    return row['dlmo_fixed_interval_wakeup_time'] - offset\n",
    "\n",
    "def make_dlmo2_diff(row):\n",
    "    if pd.isna(row['dlmo_linear_regression_wakeup_time']):\n",
    "        return np.nan\n",
    "    offset = row['main_sleep_offset'].hour + row['main_sleep_offset'].minute/60\n",
    "    return row['dlmo_linear_regression_wakeup_time'] - offset\n",
    "    \n",
    "df = pd.merge(df, df_midsleep, on=[\"patient_id\",\"timestamp\"], how='left')"
   ]
  },
  {
   "cell_type": "code",
   "execution_count": null,
   "id": "51e7c12e-b3ed-456e-9ad1-169a0205ef39",
   "metadata": {},
   "outputs": [],
   "source": [
    "df['main_sleep_offset'] = pd.to_datetime(df['main_sleep_offset'])\n",
    "df['diff_wakeup_to_fixed_interval_wakeup_time'] = df.apply(make_dlmo1_diff, axis=1)\n",
    "df['diff_wakeup_to_linear_regression_wakeup_time'] = df.apply(make_dlmo2_diff, axis=1)"
   ]
  },
  {
   "cell_type": "code",
   "execution_count": null,
   "id": "de49c6df-914b-44fa-94c1-b4facb4e533f",
   "metadata": {},
   "outputs": [],
   "source": [
    "df.to_csv(\"feature_sleep_DLMO.csv\", encoding=\"utf-8-sig\", index=False)"
   ]
  }
 ],
 "metadata": {
  "kernelspec": {
   "display_name": ".venv",
   "language": "python",
   "name": "python3"
  },
  "language_info": {
   "codemirror_mode": {
    "name": "ipython",
    "version": 3
   },
   "file_extension": ".py",
   "mimetype": "text/x-python",
   "name": "python",
   "nbconvert_exporter": "python",
   "pygments_lexer": "ipython3",
   "version": "3.12.3"
  }
 },
 "nbformat": 4,
 "nbformat_minor": 5
}
