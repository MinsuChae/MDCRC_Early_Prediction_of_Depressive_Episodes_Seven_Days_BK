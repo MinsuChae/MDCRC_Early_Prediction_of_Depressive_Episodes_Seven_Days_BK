{
 "cells": [
  {
   "cell_type": "code",
   "execution_count": null,
   "id": "fff6ac9f-7391-4bb3-bf98-85a6efbbdbd0",
   "metadata": {},
   "outputs": [],
   "source": [
    "import pandas as pd\n",
    "import numpy as np\n",
    "\n",
    "df = pd.read_csv(\"heart_rates(id).csv\")\n",
    "del df['id']"
   ]
  },
  {
   "cell_type": "code",
   "execution_count": null,
   "id": "dc9e6e36-773e-430e-a180-1f27ac2f83af",
   "metadata": {},
   "outputs": [],
   "source": [
    "df_enddate = pd.read_csv(\"patient_end_date.csv\")"
   ]
  },
  {
   "cell_type": "code",
   "execution_count": null,
   "id": "289711f4-bd1c-4d89-80bb-bdad9ca3e797",
   "metadata": {},
   "outputs": [],
   "source": [
    "import datetime\n",
    "\n",
    "def fill_enddate(value):\n",
    "    if pd.isna(value):\n",
    "        return datetime.datetime(9999,12,31)\n",
    "    else:\n",
    "        return value\n",
    "\n",
    "df = pd.merge(df, df_enddate, left_on='fitbit_id', right_on='patient_id', how='left')\n",
    "df['timestamp'] = pd.to_datetime(df['timestamp'])\n",
    "df['end_date'] = pd.to_datetime(df['end_date'])\n",
    "\n",
    "df['end_date'] = df['end_date'].apply(fill_enddate)\n",
    "del df['patient_id']\n",
    "df.rename(columns={'fitbit_id':'patient_id'}, inplace=True)\n",
    "df = df[df['timestamp'] <= df['end_date']]"
   ]
  },
  {
   "cell_type": "code",
   "execution_count": null,
   "id": "da01c954-de6d-4dbc-abc8-2bf2be133416",
   "metadata": {},
   "outputs": [],
   "source": [
    "df_patient = pd.read_csv(\"all_patient.csv\")\n",
    "df = df[df['patient_id'].isin(df_patient['patient_id'])]"
   ]
  },
  {
   "cell_type": "code",
   "execution_count": null,
   "id": "e4ebb5af-5484-4b5a-94df-e4efa3798af9",
   "metadata": {},
   "outputs": [],
   "source": [
    "df.sort_values(['patient_id', 'timestamp'], inplace=True)"
   ]
  },
  {
   "cell_type": "code",
   "execution_count": null,
   "id": "8701c34b-5a1b-426f-aa94-5c300a2ee7cd",
   "metadata": {},
   "outputs": [],
   "source": [
    "my_dict = {}\n",
    "arr = df.values"
   ]
  },
  {
   "cell_type": "code",
   "execution_count": null,
   "id": "6a3addd2-2096-45b4-825f-941095f3529c",
   "metadata": {},
   "outputs": [],
   "source": [
    "from tqdm import tqdm\n",
    "\n",
    "for i in tqdm(range(len(arr)), miniters=1, mininterval=1):\n",
    "    p = arr[i][0]\n",
    "    if p not in my_dict:\n",
    "        my_dict[p] = {}\n",
    "    current_date = datetime.datetime(arr[i][1].year,arr[i][1].month,arr[i][1].day)\n",
    "    hour = arr[i][1].hour\n",
    "    if hour <= 3:\n",
    "        current_date = current_date - datetime.timedelta(days=1)\n",
    "    if current_date not in my_dict[p] :\n",
    "        my_dict[p][current_date] = {}\n",
    "        my_dict[p][current_date]['day'] = []\n",
    "        my_dict[p][current_date]['bedtime'] = []\n",
    "        my_dict[p][current_date]['morning'] = []\n",
    "        my_dict[p][current_date]['afternoon'] = []\n",
    "        my_dict[p][current_date]['evening'] = []\n",
    "    my_dict[p][current_date]['day'].append(arr[i][2])\n",
    "    if hour >= 22 or hour < 4:\n",
    "        my_dict[p][current_date]['bedtime'].append(arr[i][2])\n",
    "    elif 4 <= hour < 10:\n",
    "        my_dict[p][current_date]['morning'].append(arr[i][2])\n",
    "    elif 10 <= hour < 16:\n",
    "        my_dict[p][current_date]['afternoon'].append(arr[i][2])\n",
    "    elif 16 < hour < 22:\n",
    "        my_dict[p][current_date]['evening'].append(arr[i][2])"
   ]
  },
  {
   "cell_type": "code",
   "execution_count": null,
   "id": "00a3f36e-220c-407e-a54b-1d3e28e287e8",
   "metadata": {},
   "outputs": [],
   "source": [
    "my_dict_all_day = {}\n",
    "\n",
    "for p in my_dict:\n",
    "    keys = sorted(my_dict[p])\n",
    "    start_date = keys[0]\n",
    "    end_date = keys[-1]\n",
    "\n",
    "    now = start_date\n",
    "    my_dict_all_day[p] = {}\n",
    "    while now <= end_date:\n",
    "        my_dict_all_day[p][now] = {}\n",
    "        my_dict_all_day[p][now]['day'] = {}\n",
    "        my_dict_all_day[p][now]['day']['mean'] = np.nan\n",
    "        my_dict_all_day[p][now]['day']['median'] = np.nan\n",
    "        my_dict_all_day[p][now]['day']['std'] = np.nan\n",
    "        my_dict_all_day[p][now]['day']['cos_of_mean'] = np.nan\n",
    "\n",
    "        my_dict_all_day[p][now]['bedtime'] = {}\n",
    "        my_dict_all_day[p][now]['bedtime']['mean'] = np.nan\n",
    "        my_dict_all_day[p][now]['bedtime']['std'] = np.nan\n",
    "\n",
    "        my_dict_all_day[p][now]['morning'] = {}\n",
    "        my_dict_all_day[p][now]['morning']['mean'] = np.nan\n",
    "        my_dict_all_day[p][now]['morning']['std'] = np.nan\n",
    "\n",
    "        my_dict_all_day[p][now]['afternoon'] = {}\n",
    "        my_dict_all_day[p][now]['afternoon']['mean'] = np.nan\n",
    "        my_dict_all_day[p][now]['afternoon']['std'] = np.nan\n",
    "\n",
    "        my_dict_all_day[p][now]['evening'] = {}\n",
    "        my_dict_all_day[p][now]['evening']['mean'] = np.nan\n",
    "        my_dict_all_day[p][now]['evening']['std'] = np.nan\n",
    "        now = now + datetime.timedelta(days=1)"
   ]
  },
  {
   "cell_type": "code",
   "execution_count": null,
   "id": "f10c8248-1e50-4454-b9c7-ffaf5c471cf1",
   "metadata": {},
   "outputs": [],
   "source": [
    "for p in my_dict:\n",
    "    for day in my_dict[p]:\n",
    "        for time in my_dict[p][day] : \n",
    "            my_dict_all_day[p][day][time]['mean'] = np.mean(my_dict[p][day][time])\n",
    "            my_dict_all_day[p][day][time]['std'] = np.std(my_dict[p][day][time])\n",
    "            if time == 'day':\n",
    "                my_dict_all_day[p][day][time]['median'] = np.quantile(my_dict[p][day][time], 0.5)\n",
    "                my_dict_all_day[p][day][time]['cos_of_mean'] = np.cos(my_dict_all_day[p][day][time]['mean'])"
   ]
  },
  {
   "cell_type": "code",
   "execution_count": null,
   "id": "0c9f84d6-8283-4a42-84a5-5b4ad76fc7c7",
   "metadata": {},
   "outputs": [],
   "source": [
    "my_list = []\n",
    "for p in my_dict_all_day:\n",
    "    for day in sorted(my_dict_all_day[p]):\n",
    "        row = [p,day.date()]\n",
    "        for time in ['day', 'morning', 'afternoon', 'evening', 'bedtime']:\n",
    "            if time == 'day':\n",
    "                row.append(my_dict_all_day[p][day][time]['mean'])\n",
    "                row.append(my_dict_all_day[p][day][time]['median'])\n",
    "                row.append(my_dict_all_day[p][day][time]['std'])\n",
    "                row.append(my_dict_all_day[p][day][time]['cos_of_mean'])\n",
    "            else:\n",
    "                row.append(my_dict_all_day[p][day][time]['mean'])\n",
    "                row.append(my_dict_all_day[p][day][time]['std'])\n",
    "        my_list.append(row)\n",
    "\n",
    "df = pd.DataFrame(my_list, columns=[\"patient_id\",\"timestamp\",\"day_hr_mean\",\"day_hr_median\",\"day_hr_std\",\"day_hr_cos_of_mean\", \\\n",
    "                                    \"morning_hr_mean\",\"morning_hr_std\", \\\n",
    "                                    \"afternoon_hr_mean\", \"afternoon_hr_std\", \\\n",
    "                                    \"evening_hr_mean\",\"evening_hr_std\", \\\n",
    "                                    \"bedtime_hr_mean\",\"bedtime_hr_std\"])\n",
    "df                  "
   ]
  },
  {
   "cell_type": "code",
   "execution_count": null,
   "id": "7fb0aa16-aae2-4c8f-88ff-bbad3edbf105",
   "metadata": {},
   "outputs": [],
   "source": [
    "df.to_csv(\"feature_heart_rate.csv\", index=False, encoding=\"utf-8-sig\")"
   ]
  },
  {
   "cell_type": "code",
   "execution_count": null,
   "id": "5f5e29c2-bbfb-4b47-9bfc-00f054da5488",
   "metadata": {},
   "outputs": [],
   "source": []
  }
 ],
 "metadata": {
  "kernelspec": {
   "display_name": ".venv",
   "language": "python",
   "name": "python3"
  },
  "language_info": {
   "codemirror_mode": {
    "name": "ipython",
    "version": 3
   },
   "file_extension": ".py",
   "mimetype": "text/x-python",
   "name": "python",
   "nbconvert_exporter": "python",
   "pygments_lexer": "ipython3",
   "version": "3.12.3"
  }
 },
 "nbformat": 4,
 "nbformat_minor": 5
}
