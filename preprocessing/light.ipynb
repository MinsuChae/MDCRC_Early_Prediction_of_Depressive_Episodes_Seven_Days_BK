{
 "cells": [
  {
   "cell_type": "code",
   "execution_count": null,
   "id": "fff6ac9f-7391-4bb3-bf98-85a6efbbdbd0",
   "metadata": {},
   "outputs": [],
   "source": [
    "import pandas as pd\n",
    "import numpy as np\n",
    "from tqdm import tqdm\n",
    "\n",
    "\n",
    "def make_index_date(value):\n",
    "    return pd.Timestamp(year = value.year, month = value.month, day = value.day)\n",
    "\n",
    "tqdm.pandas()\n",
    "\n",
    "df = pd.read_csv(\"lights(id).csv\", header=None, names=[\"id\",\"fitbit_id\",\"timestamp\",\"lux\"])\n",
    "df['timestamp'] = pd.to_datetime(df['timestamp'])\n",
    "df['index_date'] = df['timestamp'].progress_apply(make_index_date)\n",
    "\n",
    "del df['id']\n",
    "df['fitbit_id'] = df['fitbit_id'] * -1"
   ]
  },
  {
   "cell_type": "code",
   "execution_count": null,
   "id": "16c8ccc4-ec9f-4f56-90d6-dbc7da68a571",
   "metadata": {},
   "outputs": [],
   "source": [
    "# Calculate sunrise and sunset times based on Korean local time\n",
    "\n",
    "df_suntime = pd.read_excel(\"sun_2015_2023_with_wake_up.xlsx\")\n",
    "df_suntime['양력(일)'] = pd.to_datetime(df_suntime['양력(일)'])\n",
    "df_suntime['일출몰(출)'] = pd.to_datetime(df_suntime['일출몰(출)'])\n",
    "df_suntime['일출몰(몰)'] = pd.to_datetime(df_suntime['일출몰(몰)'])"
   ]
  },
  {
   "cell_type": "code",
   "execution_count": null,
   "id": "7bde9c3f-00bb-4059-8721-8daf7f5d3ff8",
   "metadata": {},
   "outputs": [],
   "source": [
    "df = pd.merge(df, df_suntime, left_on='index_date', right_on='양력(일)')\n",
    "del df['양력(일)']\n",
    "del df['recommend_wake_up']\n",
    "df.rename(columns={'일출몰(출)':'sun_time', '일출몰(몰)':'night_time'}, inplace=True)"
   ]
  },
  {
   "cell_type": "code",
   "execution_count": null,
   "id": "dc9e6e36-773e-430e-a180-1f27ac2f83af",
   "metadata": {},
   "outputs": [],
   "source": [
    "df_enddate = pd.read_csv(\"patient_end_date.csv\")"
   ]
  },
  {
   "cell_type": "code",
   "execution_count": null,
   "id": "289711f4-bd1c-4d89-80bb-bdad9ca3e797",
   "metadata": {},
   "outputs": [],
   "source": [
    "import datetime\n",
    "\n",
    "def fill_enddate(value):\n",
    "    if pd.isna(value):\n",
    "        return datetime.datetime(9999,12,31)\n",
    "    else:\n",
    "        return value\n",
    "\n",
    "df = pd.merge(df, df_enddate, left_on='fitbit_id', right_on='patient_id', how='left')\n",
    "df['timestamp'] = pd.to_datetime(df['timestamp'])\n",
    "df['end_date'] = pd.to_datetime(df['end_date'])\n",
    "\n",
    "df['end_date'] = df['end_date'].apply(fill_enddate)\n",
    "del df['patient_id']\n",
    "df.rename(columns={'fitbit_id':'patient_id'}, inplace=True)\n",
    "df = df[df['timestamp'] <= df['end_date']]"
   ]
  },
  {
   "cell_type": "code",
   "execution_count": null,
   "id": "da01c954-de6d-4dbc-abc8-2bf2be133416",
   "metadata": {},
   "outputs": [],
   "source": [
    "df_patient = pd.read_csv(\"all_patient.csv\")\n",
    "df = df[df['patient_id'].isin(df_patient['patient_id'])]"
   ]
  },
  {
   "cell_type": "code",
   "execution_count": null,
   "id": "e4ebb5af-5484-4b5a-94df-e4efa3798af9",
   "metadata": {},
   "outputs": [],
   "source": [
    "df.sort_values(['patient_id', 'timestamp'], inplace=True)"
   ]
  },
  {
   "cell_type": "code",
   "execution_count": null,
   "id": "8701c34b-5a1b-426f-aa94-5c300a2ee7cd",
   "metadata": {},
   "outputs": [],
   "source": [
    "my_dict = {}\n",
    "arr = df.values"
   ]
  },
  {
   "cell_type": "code",
   "execution_count": null,
   "id": "6a3addd2-2096-45b4-825f-941095f3529c",
   "metadata": {},
   "outputs": [],
   "source": [
    "from tqdm import tqdm\n",
    "\n",
    "for i in tqdm(range(len(arr)), miniters=1, mininterval=1):\n",
    "    p = arr[i][0]\n",
    "    if p not in my_dict:\n",
    "        my_dict[p] = {}\n",
    "    current_date = datetime.datetime(arr[i][1].year,arr[i][1].month,arr[i][1].day)\n",
    "    hour = arr[i][1].hour\n",
    "    if current_date not in my_dict[p] :\n",
    "        my_dict[p][current_date] = {}\n",
    "        my_dict[p][current_date]['lux'] = []\n",
    "        my_dict[p][current_date]['wakeup_guess_time'] = np.nan\n",
    "\n",
    "    now = arr[i][1].hour + arr[i][1].minute / 60\n",
    "    sun_start = arr[i][-3].hour + arr[i][-3].minute / 60\n",
    "    sun_end = arr[i][-2].hour + arr[i][-2].minute / 60\n",
    "    sun_mid = (sun_start + sun_end) / 2\n",
    "    sun_mid_half = (sun_start + sun_mid) / 2\n",
    "    \n",
    "    if sun_start <= now <= sun_mid_half:\n",
    "        my_dict[p][current_date]['lux'].append(arr[i][2])\n",
    "\n",
    "    if sun_start <= now and arr[i][2] >= 140 and np.isnan(my_dict[p][current_date]['wakeup_guess_time']):\n",
    "        my_dict[p][current_date]['wakeup_guess_time'] = hour + (arr[i][1].minute / 60)"
   ]
  },
  {
   "cell_type": "code",
   "execution_count": null,
   "id": "ad5ab905-91f1-4606-bf04-14ef2a4215ab",
   "metadata": {},
   "outputs": [],
   "source": [
    "my_dict_all_day = {}\n",
    "\n",
    "for p in my_dict:\n",
    "    keys = sorted(my_dict[p])\n",
    "    start_date = keys[0]\n",
    "    end_date = keys[-1]\n",
    "\n",
    "    now = start_date\n",
    "    my_dict_all_day[p] = {}\n",
    "    while now <= end_date:\n",
    "        my_dict_all_day[p][now] = {}\n",
    "        my_dict_all_day[p][now]['lux_mean'] = np.nan\n",
    "        my_dict_all_day[p][now]['lux_median'] = np.nan\n",
    "        my_dict_all_day[p][now]['wakeup_guess_time'] = np.nan\n",
    "        now = now + datetime.timedelta(days=1)"
   ]
  },
  {
   "cell_type": "code",
   "execution_count": null,
   "id": "f2a85150-1d10-4b77-b86b-db24eadc6a38",
   "metadata": {},
   "outputs": [],
   "source": [
    "for p in my_dict:\n",
    "    keys = sorted(my_dict[p])\n",
    "    for day in keys:\n",
    "        if len(my_dict[p][day]['lux']) == 0:\n",
    "            continue\n",
    "        my_dict_all_day[p][day]['lux_mean'] = np.mean(my_dict[p][day]['lux'])\n",
    "        my_dict_all_day[p][day]['lux_median'] = np.quantile(my_dict[p][day]['lux'], 0.5)\n",
    "        my_dict_all_day[p][day]['wakeup_guess_time'] = my_dict[p][day]['wakeup_guess_time']"
   ]
  },
  {
   "cell_type": "code",
   "execution_count": null,
   "id": "514c470b-5899-4a64-a21f-45bafadbf996",
   "metadata": {},
   "outputs": [],
   "source": [
    "my_list = []\n",
    "for p in my_dict_all_day:\n",
    "    for day in sorted(my_dict_all_day[p]):\n",
    "        row = [p,day.date()]\n",
    "        row.append(my_dict_all_day[p][day]['lux_mean'])\n",
    "        row.append(my_dict_all_day[p][day]['lux_median'])\n",
    "        row.append(my_dict_all_day[p][day]['wakeup_guess_time'])\n",
    "        my_list.append(row)\n",
    "\n",
    "df = pd.DataFrame(my_list, columns=[\"patient_id\",\"timestamp\",\"lux_morning_mean\",\"lux_morning_median\",\"wakeup_guess_time_based_on_lux\"])"
   ]
  },
  {
   "cell_type": "code",
   "execution_count": null,
   "id": "8edd04ec-c735-4fb0-8e0e-13dc37180e1e",
   "metadata": {},
   "outputs": [],
   "source": [
    "df.to_csv(\"feature_light.csv\", index=False, encoding=\"utf-8-sig\")"
   ]
  },
  {
   "cell_type": "code",
   "execution_count": null,
   "id": "5f5e29c2-bbfb-4b47-9bfc-00f054da5488",
   "metadata": {},
   "outputs": [],
   "source": []
  }
 ],
 "metadata": {
  "kernelspec": {
   "display_name": ".venv",
   "language": "python",
   "name": "python3"
  },
  "language_info": {
   "codemirror_mode": {
    "name": "ipython",
    "version": 3
   },
   "file_extension": ".py",
   "mimetype": "text/x-python",
   "name": "python",
   "nbconvert_exporter": "python",
   "pygments_lexer": "ipython3",
   "version": "3.12.3"
  }
 },
 "nbformat": 4,
 "nbformat_minor": 5
}
