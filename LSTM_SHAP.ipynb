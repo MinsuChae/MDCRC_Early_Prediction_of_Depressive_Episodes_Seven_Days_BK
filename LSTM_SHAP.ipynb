{
 "cells": [
  {
   "cell_type": "code",
   "execution_count": null,
   "id": "4def7e95-6fea-4876-ba9a-257faa7c338d",
   "metadata": {},
   "outputs": [],
   "source": [
    "import pandas as pd\n",
    "import numpy as np\n",
    "\n",
    "demography_df = pd.read_csv(\"patient_demographic.csv\")\n",
    "demography_df['date'] = pd.to_datetime(demography_df['date'])"
   ]
  },
  {
   "cell_type": "code",
   "execution_count": null,
   "id": "5a363264-a3ae-4f87-a3d9-6c11d5a71d63",
   "metadata": {},
   "outputs": [],
   "source": [
    "seed = 5571"
   ]
  },
  {
   "cell_type": "code",
   "execution_count": null,
   "id": "c8c6ab3c-e3cc-47cc-8639-7ff8e1590ad6",
   "metadata": {},
   "outputs": [],
   "source": [
    "from sklearn.model_selection import train_test_split\n",
    "\n",
    "def split_dats(df, seed):\n",
    "    train_df, test_df = train_test_split(df, test_size=0.2, random_state=seed, stratify=df['Label'])\n",
    "    train_df, early_df = train_test_split(train_df, test_size=len(test_df), random_state=seed, stratify=train_df['Label'])\n",
    "    \n",
    "    del train_df['Label']\n",
    "    del early_df['Label']\n",
    "    del test_df['Label']\n",
    "\n",
    "\n",
    "    return train_df, early_df, test_df"
   ]
  },
  {
   "cell_type": "code",
   "execution_count": null,
   "id": "48cf5ddd-b5e0-4f36-a2c5-523ed76b1428",
   "metadata": {},
   "outputs": [],
   "source": [
    "train_df, early_df, test_df = split_dats(demography_df, seed)"
   ]
  },
  {
   "cell_type": "code",
   "execution_count": null,
   "id": "f401108c-2fd3-4e54-9a6d-2cf2f25aec1a",
   "metadata": {},
   "outputs": [],
   "source": [
    "def calc_age(row):\n",
    "    return row['timestamp'].year - row['date'].year + row['age']\n",
    "    \n",
    "df = pd.read_csv(\"feature_selected.csv\")\n",
    "df['timestamp'] = pd.to_datetime(df['timestamp'])\n",
    "\n",
    "\n",
    "train_df = pd.merge(df, train_df, on='patient_id')\n",
    "train_df['age'] = train_df.apply(calc_age, axis=1)\n",
    "train_df.insert(4,'age2',0)\n",
    "train_df.insert(5,'sex2',0)\n",
    "train_df['sex2'] = train_df['sex']\n",
    "train_df['age2'] = train_df['age']\n",
    "train_df.drop(['age','sex','date'], axis=1, inplace=True)\n",
    "train_df.rename(columns={'age2':'age','sex2':'sex'}, inplace=True)"
   ]
  },
  {
   "cell_type": "code",
   "execution_count": null,
   "id": "0eb7ac2c-aedd-45ae-bc61-5de9651bb49e",
   "metadata": {},
   "outputs": [],
   "source": [
    "early_df = pd.merge(df, early_df, on='patient_id')\n",
    "early_df['age'] = early_df.apply(calc_age, axis=1)\n",
    "early_df.insert(4,'age2',0)\n",
    "early_df.insert(5,'sex2',0)\n",
    "early_df['sex2'] = early_df['sex']\n",
    "early_df['age2'] = early_df['age']\n",
    "early_df.drop(['age','sex','date'], axis=1, inplace=True)\n",
    "early_df.rename(columns={'age2':'age','sex2':'sex'}, inplace=True)\n",
    "\n",
    "test_df = pd.merge(df, test_df, on='patient_id')\n",
    "test_df['age'] = test_df.apply(calc_age, axis=1)\n",
    "test_df.insert(4,'age2',0)\n",
    "test_df.insert(5,'sex2',0)\n",
    "test_df['sex2'] = test_df['sex']\n",
    "test_df['age2'] = test_df['age']\n",
    "test_df.drop(['age','sex','date'], axis=1, inplace=True)\n",
    "test_df.rename(columns={'age2':'age','sex2':'sex'}, inplace=True)"
   ]
  },
  {
   "cell_type": "code",
   "execution_count": null,
   "id": "ed37d4f5-f06a-4e09-b89c-6c47240f83d8",
   "metadata": {},
   "outputs": [],
   "source": [
    "def make_feature(df):\n",
    "    patients = np.unique(df['patient_id'])\n",
    "    feature = []\n",
    "    target = []\n",
    "    \n",
    "    for p in patients:\n",
    "        df_tmp = df[df['patient_id']==p]\n",
    "        arr = df_tmp.values[:, :]\n",
    "        \n",
    "        for i in range(7, len(arr)-7):\n",
    "            tmp_f = arr[i-7:i, 2:-1]\n",
    "            tmp_t = arr[i+6,-1]\n",
    "    \n",
    "            if pd.isna(tmp_t) or pd.isna(tmp_f).sum() >= 1:\n",
    "                continue\n",
    "    \n",
    "            feature.append(tmp_f)\n",
    "            target.append(tmp_t)\n",
    "\n",
    "    return np.array(feature).astype(float), np.array(target).reshape(-1, 1)\n",
    "\n",
    "train_feature, train_target = make_feature(train_df)\n",
    "earlystop_feature, earlystop_target = make_feature(early_df)\n",
    "test_feature, test_target = make_feature(test_df)"
   ]
  },
  {
   "cell_type": "code",
   "execution_count": null,
   "id": "36341bfb-1860-4dd1-bf3c-eb2edcde80c3",
   "metadata": {},
   "outputs": [],
   "source": [
    "shape = train_feature.shape"
   ]
  },
  {
   "cell_type": "code",
   "execution_count": null,
   "id": "0320bd71-aae5-4d5c-be1c-4a2033c93970",
   "metadata": {},
   "outputs": [],
   "source": [
    "from sklearn.preprocessing import MinMaxScaler\n",
    "import copy\n",
    "\n",
    "train_feature = train_feature.reshape(len(train_feature), -1)\n",
    "earlystop_feature = earlystop_feature.reshape(len(earlystop_feature), -1)\n",
    "test_feature = test_feature.reshape(len(test_feature), -1)\n",
    "\n",
    "scaler = MinMaxScaler()\n",
    "train_feature = scaler.fit_transform(train_feature)\n",
    "earlystop_feature = scaler.transform(earlystop_feature)\n",
    "test_feature = scaler.transform(test_feature)"
   ]
  },
  {
   "cell_type": "code",
   "execution_count": null,
   "id": "76e6a782-57b9-4bd9-8bd3-3dcc2b8f8968",
   "metadata": {},
   "outputs": [],
   "source": [
    "test_feature = test_feature.reshape(len(test_feature), shape[1], shape[2]).astype(float)"
   ]
  },
  {
   "cell_type": "code",
   "execution_count": null,
   "id": "e7a5c241-4702-43da-b8cf-7ec9a32518e5",
   "metadata": {},
   "outputs": [],
   "source": [
    "def make_multi_label(arr_target):\n",
    "    tmp_target = []\n",
    "    for i in range(len(arr_target)):\n",
    "        row = []\n",
    "        if arr_target[i][0] == 0:\n",
    "            row.append(0)\n",
    "        elif arr_target[i][0] == 1:\n",
    "            row.append(1)\n",
    "        elif arr_target[i][0] == 2:\n",
    "            row.append(1)\n",
    "        elif arr_target[i][0] == 4:\n",
    "            row.append(1)\n",
    "\n",
    "        tmp_target.append(row)\n",
    "\n",
    "    return np.array(tmp_target).reshape(len(tmp_target), -1)\n",
    "\n",
    "\n",
    "test_target = make_multi_label(test_target)"
   ]
  },
  {
   "cell_type": "code",
   "execution_count": null,
   "id": "1598f90b-7c25-46c1-adf5-5b1d70c67ecc",
   "metadata": {},
   "outputs": [],
   "source": [
    "import tensorflow as tf\n",
    "from tensorflow.keras.layers import Input, Masking, LSTM, Dropout, MultiHeadAttention, Flatten, Dense, LayerNormalization\n",
    "from tensorflow.keras.models import Model\n",
    "from tensorflow.keras.metrics import Precision, Recall, PrecisionAtRecall\n",
    "from tensorflow.keras.losses import BinaryFocalCrossentropy\n",
    "from tensorflow.keras.optimizers import Adam\n",
    "from tensorflow.keras.optimizers.schedules import ExponentialDecay\n",
    "\n",
    "model = tf.keras.models.load_model('LSTM_Feature_DLMO_CR_{}.h5'.format(seed))\n",
    "\n",
    "model.compile(optimizer=Adam(learning_rate=ExponentialDecay(0.000001, decay_steps=1000, decay_rate=0.99)),loss=BinaryFocalCrossentropy(),metrics=[Precision(), Recall(), PrecisionAtRecall(0.7)])\n",
    "model.summary()"
   ]
  },
  {
   "cell_type": "code",
   "execution_count": null,
   "id": "609b6fd4-0d6e-4244-8427-16b5d9ad686c",
   "metadata": {},
   "outputs": [],
   "source": [
    "import shap\n",
    "explainer = shap.GradientExplainer(model, test_feature)\n",
    "shap_values = explainer.shap_values(test_feature)"
   ]
  },
  {
   "cell_type": "code",
   "execution_count": null,
   "id": "cb6c8310-c1f9-4852-85a1-60a415dc44ca",
   "metadata": {},
   "outputs": [],
   "source": [
    "columns = ['Age',\n",
    "    'Sex',\n",
    "    'Daytime HR Mean',\n",
    "    'Daytime HR Q1',\n",
    "    'Daytime HR Median',\n",
    "    'Daytime HR Q3',\n",
    "    'Evening HR Mean',\n",
    "    'Evening HR Q1',\n",
    "    'Evening HR Median',\n",
    "    'Evening HR Q3',\n",
    "    'Bedtime HR Mean',\n",
    "    'Bedtime HR Median',\n",
    "    'Bedtime HR Q3',\n",
    "    'HRV 20th Percentile',\n",
    "    'HRV Minimum NN',\n",
    "    'Steps < 7000 (Daily)',\n",
    "    'Steps 7000–8000 (Daily)',\n",
    "    'Steps > 8000 (Daily)',\n",
    "    'Steps Nan (Daily)',\n",
    "    'Below Personal Step Avg',\n",
    "    'Above Personal Step Avg',\n",
    "    'Nan Personal Step Avg',\n",
    "    'Main Sleep 0h–6h',\n",
    "    'Main Sleep 6h–12h',\n",
    "    'Main Sleep 12h–18h',\n",
    "    'Main Sleep 18h–24h',\n",
    "    'Main Sleep Time Nan',\n",
    "    'Minutes Awake During Sleep',\n",
    "    'DLMO (Method 1)',\n",
    "    'DLMO (Method 1) Wakeup',\n",
    "    'DLMO (Medthd 2)',\n",
    "    'DLMO (Medthd 2) Wakeup',\n",
    "    'Acrophase (48h Cosine fit) ',\n",
    "    'MESOR (48h Cosine fit)',\n",
    "    'Acrophase Advanced(48h Cosine fit)',\n",
    "    'Acrophase Normal(48h Cosine fit)',\n",
    "    'Acrophase Delayed(48h Cosine fit)',\n",
    "    'Acrophase Nan(48h Cosine fit)',\n",
    "    'Acrophase (168h Cosine fit) ',\n",
    "    'MESOR (168h Cosine fit)',\n",
    "    'Acrophase Advanced(168h Cosine fit)',\n",
    "    'Acrophase Normal(168h Cosine fit)',\n",
    "    'Acrophase Delayed(168h Cosine fit)',\n",
    "    'Acrophase Nan(168h Cosine fit)']"
   ]
  },
  {
   "cell_type": "code",
   "execution_count": null,
   "id": "d98c150b-96f2-4e9a-9e82-56c9e3f64414",
   "metadata": {},
   "outputs": [],
   "source": [
    "shap_columns = []\n",
    "for t in range(6,-1,-1):\n",
    "    for c in columns:\n",
    "        if t == 0:\n",
    "            shap_columns.append(\"today {}\".format(c))\n",
    "        elif t > 1:\n",
    "            shap_columns.append(\"{}days ago {}\".format(t,c))\n",
    "        else:\n",
    "            shap_columns.append(\"{}day ago {}\".format(t,c))\n",
    "\n",
    "shap_values = shap_values\n",
    "shap_values = shap_values.reshape(len(shap_values), -1)\n",
    "tmp_x = pd.DataFrame(test_feature.reshape(len(test_feature),-1), columns=shap_columns)"
   ]
  },
  {
   "cell_type": "code",
   "execution_count": null,
   "id": "8bc8d3bd-a34b-4be4-8474-640c2cd3515e",
   "metadata": {},
   "outputs": [],
   "source": [
    "utilsize_index = []\n",
    "idx = 0\n",
    "for t in range(6,-1,-1):\n",
    "    for c in list(train_df.columns)[2:-1]:\n",
    "        if c == 'age' or c == 'sex':\n",
    "            pass    \n",
    "        elif c.endswith('average_step_over_no'):\n",
    "            pass\n",
    "        else:\n",
    "            utilsize_index.append(idx)\n",
    "        idx = idx + 1"
   ]
  },
  {
   "cell_type": "code",
   "execution_count": null,
   "id": "f1320f06-ac69-4f20-985a-3f1d5d3987df",
   "metadata": {},
   "outputs": [],
   "source": [
    "utilsize_columns = []\n",
    "for i,c in enumerate(tmp_x.columns):\n",
    "    if i in utilsize_index:\n",
    "        utilsize_columns.append(c)"
   ]
  },
  {
   "cell_type": "code",
   "execution_count": null,
   "id": "99092478-644d-4fbb-9c45-0f1b2630bb3a",
   "metadata": {},
   "outputs": [],
   "source": [
    "import matplotlib.pyplot as plt\n",
    "\n",
    "shap.summary_plot(shap_values[:,utilsize_index], tmp_x[utilsize_columns], show=False)\n",
    "plt.tight_layout()\n",
    "plt.savefig('shap_importance.png', dpi=300)\n",
    "plt.show()"
   ]
  },
  {
   "cell_type": "code",
   "execution_count": null,
   "id": "32b94ef4-ac30-4ef5-b96a-daf24d2565d9",
   "metadata": {},
   "outputs": [],
   "source": [
    "import numpy as np\n",
    "\n",
    "# 평균 절댓값 기준 중요도 계산\n",
    "mean_abs_shap = np.abs(shap_values[:, utilsize_index]).mean(axis=0)\n",
    "\n",
    "# 중요도 내림차순 정렬된 feature 인덱스\n",
    "sorted_indices = np.argsort(mean_abs_shap)[::-1]"
   ]
  },
  {
   "cell_type": "code",
   "execution_count": null,
   "id": "4e3cf16f-1a50-4ca4-8fe9-9bae5e7e9552",
   "metadata": {},
   "outputs": [],
   "source": [
    "top_10_indices = sorted_indices[:10]\n",
    "top_10_columns = [utilsize_columns[i] for i in top_10_indices]\n",
    "\n",
    "# SHAP summary plot (상위 1~10개)\n",
    "shap.summary_plot(\n",
    "    shap_values[:, utilsize_index][:, top_10_indices],\n",
    "    tmp_x[top_10_columns],\n",
    "    feature_names=top_10_columns,\n",
    "    show=False\n",
    ")\n",
    "plt.tight_layout()\n",
    "plt.savefig(\"shap_top_1_10.png\", dpi=300)\n",
    "plt.show()"
   ]
  },
  {
   "cell_type": "code",
   "execution_count": null,
   "id": "4e38d1d5-12fd-4c03-a2a7-ef9277bfe530",
   "metadata": {},
   "outputs": [],
   "source": [
    "top_11_20_indices = sorted_indices[10:20]\n",
    "top_11_20_columns = [utilsize_columns[i] for i in top_11_20_indices]\n",
    "\n",
    "shap.summary_plot(\n",
    "    shap_values[:, utilsize_index][:, top_11_20_indices],\n",
    "    tmp_x[top_11_20_columns],\n",
    "    feature_names=top_11_20_columns,\n",
    "    show=False\n",
    ")\n",
    "plt.tight_layout()\n",
    "plt.savefig(\"shap_top_11_20.png\", dpi=300)\n",
    "plt.show()"
   ]
  },
  {
   "cell_type": "code",
   "execution_count": null,
   "id": "59d1d5cb-3ac2-4be1-a376-4d58bf45022a",
   "metadata": {},
   "outputs": [],
   "source": [
    "tmp_x_inverse = pd.DataFrame(scaler.inverse_transform(tmp_x), columns=tmp_x.columns)\n",
    "tmp_x_inverse"
   ]
  },
  {
   "cell_type": "code",
   "execution_count": null,
   "id": "a75ed795-5749-4b11-a1d6-8674dba3403b",
   "metadata": {},
   "outputs": [],
   "source": [
    "columns = ['Age',\n",
    "    'Sex',\n",
    "    'Daytime HR Mean',\n",
    "    'Daytime HR Q1',\n",
    "    'Daytime HR Median',\n",
    "    'Daytime HR Q3',\n",
    "    'Evening HR Mean',\n",
    "    'Evening HR Q1',\n",
    "    'Evening HR Median',\n",
    "    'Evening HR Q3',\n",
    "    'Bedtime HR Mean',\n",
    "    'Bedtime HR Median',\n",
    "    'Bedtime HR Q3',\n",
    "    'HRV 20th Percentile',\n",
    "    'HRV Minimum NN',\n",
    "    'Steps < 7000 (Daily)',\n",
    "    'Steps 7000–8000 (Daily)',\n",
    "    'Steps > 8000 (Daily)',\n",
    "    'Steps Nan (Daily)',\n",
    "    'Below Personal Step Avg',\n",
    "    'Above PersonalStep Avg',\n",
    "    'Nan PersonalStep Avg',\n",
    "    'Main Sleep 0h–6h',\n",
    "    'Main Sleep 6h–12h',\n",
    "    'Main Sleep 12h–18h',\n",
    "    'Main Sleep 18h–24h',\n",
    "    'Main Sleep Time Nan',\n",
    "    'Minutes Awake During Sleep',\n",
    "    'DLMO (Method 1)',\n",
    "    'DLMO (Method 1) Wakeup',\n",
    "    'DLMO (Medthd 2)',\n",
    "    'DLMO (Medthd 2) Wakeup',\n",
    "    'Acrophase (48h Cosine fit) ',\n",
    "    'MESOR (48h Cosine fit)',\n",
    "    'Acrophase Advanced(48h Cosine fit)',\n",
    "    'Acrophase Normal(48h Cosine fit)',\n",
    "    'Acrophase Delayed(48h Cosine fit)',\n",
    "    'Acrophase Nan(48h Cosine fit)',\n",
    "    'Acrophase (168h Cosine fit) ',\n",
    "    'MESOR (168h Cosine fit)',\n",
    "    'Acrophase Advanced(168h Cosine fit)',\n",
    "    'Acrophase Normal(168h Cosine fit)',\n",
    "    'Acrophase Delayed(168h Cosine fit)',\n",
    "    'Acrophase Nan(168h Cosine fit)']"
   ]
  },
  {
   "cell_type": "code",
   "execution_count": null,
   "id": "69829076-11bd-4627-b5c6-85a41ea8e978",
   "metadata": {},
   "outputs": [],
   "source": [
    "df = pd.DataFrame(shap_values, columns=shap_columns)"
   ]
  },
  {
   "cell_type": "code",
   "execution_count": null,
   "id": "14d22144-8d87-49f5-a36b-5b62d75631c2",
   "metadata": {},
   "outputs": [],
   "source": [
    "import numpy as np\n",
    "\n",
    "arr= df.values\n",
    "\n",
    "plus_list_squared_sum_sqrt = []\n",
    "minus_list_squared_sum_sqrt = []\n",
    "tmp_list = []\n",
    "\n",
    "for i in range(len(arr[0])):\n",
    "    tmp = arr[:, i]\n",
    "    tmp_list.append(np.sqrt(np.sum(np.power(tmp,2))))\n",
    "\n",
    "    tmp = tmp[tmp >= 0]\n",
    "    plus_list_squared_sum_sqrt.append(np.sqrt(np.sum(np.power(tmp,2))))\n",
    "    \n",
    "    tmp = arr[:, i]\n",
    "    tmp = tmp[tmp < 0]\n",
    "    minus_list_squared_sum_sqrt.append(-np.sqrt(np.sum(np.power(tmp,2))))"
   ]
  },
  {
   "cell_type": "code",
   "execution_count": null,
   "id": "8d559805-22b4-49c2-b8e8-83eadb5542a1",
   "metadata": {},
   "outputs": [],
   "source": [
    "tmp_list = np.array(tmp_list).reshape(7,-1)"
   ]
  },
  {
   "cell_type": "code",
   "execution_count": null,
   "id": "51e78e2e-bf02-473a-ad0a-33328fb599d6",
   "metadata": {},
   "outputs": [],
   "source": [
    "summary_columns = ['age','sex','Heart Rate Variables', 'Physical Activity Variables', 'Sleep Variables', 'DLMO Variables', 'Cosine Fitting Variables', 'Sum']\n",
    "\n",
    "summary_list = []\n",
    "\n",
    "for i in range(len(tmp_list)):\n",
    "    tmp = []\n",
    "    tmp.append(tmp_list[i][0])\n",
    "    tmp.append(tmp_list[i][1])\n",
    "    tmp.append(np.sqrt(np.sum(np.power(tmp_list[i][2:15],2))))\n",
    "    tmp.append(np.sqrt(np.sum(np.power(tmp_list[i][15:22],2))))\n",
    "    tmp.append(np.sqrt(np.sum(np.power(tmp_list[i][22:28],2))))\n",
    "    tmp.append(np.sqrt(np.sum(np.power(tmp_list[i][28:32],2))))\n",
    "    tmp.append(np.sqrt(np.sum(np.power(tmp_list[i][32:],2))))\n",
    "    summary_list.append(tmp)"
   ]
  },
  {
   "cell_type": "code",
   "execution_count": null,
   "id": "95801245-6412-4b8c-89f6-4830c682f3ca",
   "metadata": {},
   "outputs": [],
   "source": [
    "summary_list = np.array(summary_list).reshape(7,-1)"
   ]
  },
  {
   "cell_type": "code",
   "execution_count": null,
   "id": "1e8264ab-e335-4b0b-a9ef-9799a54fac64",
   "metadata": {},
   "outputs": [],
   "source": [
    "summary_list_tmp = np.zeros((summary_list.shape[0]+1, (summary_list.shape[1]+1)))\n",
    "for i in range(len(summary_list)):\n",
    "    for j in range(len(summary_list[i])):\n",
    "        summary_list_tmp[i+1,j] = summary_list[i,j]\n",
    "\n",
    "for j in range(len(summary_list[0])):\n",
    "    summary_list_tmp[0][j] = np.sum(summary_list[:,j])\n",
    "\n",
    "for i in range(len(summary_list_tmp)):\n",
    "    summary_list_tmp[i][-1] = np.sum(summary_list_tmp[i,2:-1])"
   ]
  },
  {
   "cell_type": "code",
   "execution_count": null,
   "id": "3038d7ee-8327-484b-970a-0495311ed60a",
   "metadata": {},
   "outputs": [],
   "source": [
    "import seaborn as sns\n",
    "import matplotlib.pyplot as plt\n",
    "from matplotlib.colors import LinearSegmentedColormap\n",
    "\n",
    "custom_cmap = LinearSegmentedColormap.from_list('custom_cmap', ['white', 'green'])\n",
    "\n",
    "tmp_df = pd.DataFrame(summary_list_tmp, columns=summary_columns, index=['Sum','6days ago', '5days ago', '4days ago', '3days ago', '2days ago', '1day ago', 'today'])\n",
    "tmp_df.drop(['age','sex'],axis=1, inplace=True)\n",
    "tmp_df_figure = tmp_df.T\n",
    "plt.figure(figsize=(10,4), dpi=300)\n",
    "sns.heatmap(tmp_df_figure, annot=True, cmap=custom_cmap, linewidths=0.5, fmt='.2f')\n",
    "plt.xticks(rotation=45)\n",
    "plt.tight_layout()\n",
    "plt.savefig('shap_summary.png', dpi=300)\n",
    "plt.show()"
   ]
  },
  {
   "cell_type": "code",
   "execution_count": null,
   "id": "31afa9e3-2b05-41b2-b663-c9d30e2c3fee",
   "metadata": {},
   "outputs": [],
   "source": [
    "custom_cmap = LinearSegmentedColormap.from_list('custom_cmap', ['white', 'green'])\n",
    "\n",
    "tmp_df = pd.DataFrame(tmp_list, columns=columns, index=['6days ago', '5days ago', '4days ago', '3days ago', '2days ago', '1day ago', 'today'])\n",
    "tmp_df.drop(['Age','Sex'],axis=1, inplace=True)\n",
    "tmp_df.drop(['Steps Nan (Daily)','Nan PersonalStep Avg', 'Main Sleep Time Nan',     'Acrophase Nan(48h Cosine fit)',    'Acrophase Nan(168h Cosine fit)',],axis=1, inplace=True)\n",
    "tmp_df_figure = tmp_df.T\n",
    "plt.figure(figsize=(10, 10))\n",
    "sns.heatmap(tmp_df_figure, annot=True, cmap=custom_cmap, linewidths=0.5, fmt='.2f')\n",
    "plt.xticks(rotation=45)\n",
    "plt.tight_layout()\n",
    "plt.savefig('shap_summary_detail.png', dpi=300)\n",
    "plt.show()"
   ]
  },
  {
   "cell_type": "code",
   "execution_count": null,
   "id": "f886fdcc-296e-4495-8c57-276799b3bee1",
   "metadata": {},
   "outputs": [],
   "source": [
    "plus_list_squared_sum_sqrt = np.array(plus_list_squared_sum_sqrt).reshape(7,-1)\n",
    "minus_list_squared_sum_sqrt = np.array(minus_list_squared_sum_sqrt).reshape(7,-1)"
   ]
  },
  {
   "cell_type": "code",
   "execution_count": null,
   "id": "a3faf74b-5343-49bb-bcbc-6bb3d635ed58",
   "metadata": {},
   "outputs": [],
   "source": [
    "import seaborn as sns\n",
    "import matplotlib.pyplot as plt\n",
    "custom_cmap = LinearSegmentedColormap.from_list('custom_cmap', ['white', 'red'])\n",
    "\n",
    "tmp_df = pd.DataFrame(plus_list_squared_sum_sqrt, columns=columns, index=['6days ago', '5days ago', '4days ago', '3days ago', '2days ago', '1day ago', 'today'])\n",
    "tmp_df.drop(['Steps Nan (Daily)','Nan PersonalStep Avg', 'Main Sleep Time Nan',     'Acrophase Nan(48h Cosine fit)',    'Acrophase Nan(168h Cosine fit)',],axis=1, inplace=True)\n",
    "tmp_df.drop(['Age','Sex'],axis=1, inplace=True)\n",
    "tmp_df_figure = tmp_df.T\n",
    "plt.figure(figsize= (6.5,10))\n",
    "sns.heatmap(tmp_df_figure, annot=False, cmap=custom_cmap, linewidths=0.5, fmt='.2f')\n",
    "plt.xticks(rotation=45)\n",
    "plt.tight_layout()\n",
    "plt.savefig('shap_positive_none_annotation.png', dpi=300)\n",
    "plt.show()"
   ]
  },
  {
   "cell_type": "code",
   "execution_count": null,
   "id": "e3a1d2f1-91bf-48ca-a0e2-9615dfb5e2d9",
   "metadata": {},
   "outputs": [],
   "source": [
    "import seaborn as sns\n",
    "import matplotlib.pyplot as plt\n",
    "custom_cmap = LinearSegmentedColormap.from_list('custom_cmap', ['blue', 'white'])\n",
    "\n",
    "\n",
    "tmp_df = pd.DataFrame(minus_list_squared_sum_sqrt, columns=columns, index=['6days ago', '5days ago', '4days ago', '3days ago', '2days ago', '1day ago', 'today'])\n",
    "tmp_df.drop(['Age','Sex'],axis=1, inplace=True)\n",
    "tmp_df.drop(['Steps Nan (Daily)','Nan PersonalStep Avg', 'Main Sleep Time Nan',     'Acrophase Nan(48h Cosine fit)',    'Acrophase Nan(168h Cosine fit)',],axis=1, inplace=True)\n",
    "tmp_df_figure = tmp_df.T\n",
    "plt.figure(figsize= (6.5,10))\n",
    "sns.heatmap(tmp_df_figure, annot=False, cmap=custom_cmap, linewidths=0.5, fmt='.2f')\n",
    "plt.xticks(rotation=45)\n",
    "plt.tight_layout()\n",
    "plt.savefig('shap_negativenone_annotation.png', dpi=300)\n",
    "plt.show()"
   ]
  }
 ],
 "metadata": {
  "kernelspec": {
   "display_name": ".venv",
   "language": "python",
   "name": "python3"
  },
  "language_info": {
   "codemirror_mode": {
    "name": "ipython",
    "version": 3
   },
   "file_extension": ".py",
   "mimetype": "text/x-python",
   "name": "python",
   "nbconvert_exporter": "python",
   "pygments_lexer": "ipython3",
   "version": "3.12.3"
  }
 },
 "nbformat": 4,
 "nbformat_minor": 5
}
